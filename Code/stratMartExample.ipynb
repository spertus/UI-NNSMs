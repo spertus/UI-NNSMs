{
 "cells": [
  {
   "cell_type": "code",
   "execution_count": 1,
   "id": "c7c83862",
   "metadata": {},
   "outputs": [],
   "source": [
    "import math\n",
    "import pypoman\n",
    "import scipy as sp\n",
    "import matplotlib.pyplot as plt\n",
    "import itertools\n",
    "from scipy.stats import bernoulli, uniform, chi2\n",
    "import numpy as np\n",
    "from scipy.stats.mstats import gmean\n",
    "from numpy.testing import assert_allclose\n",
    "from iteround import saferound\n",
    "from utils import Bets, Weights, mart, lower_confidence_bound, wright_lower_bound, intersection_mart, plot_marts_eta\n",
    "np.random.seed(123456789)"
   ]
  },
  {
   "cell_type": "code",
   "execution_count": 2,
   "id": "ca1df2e5",
   "metadata": {},
   "outputs": [
    {
     "name": "stdout",
     "output_type": "stream",
     "text": [
      "['cvxopt', 'quadprog']\n"
     ]
    }
   ],
   "source": [
    "#to project onto polytope \\mathcal{C}\n",
    "#need the packages 'qpsolvers' and 'quadprog' as well as the dev version of 'pypoman'\n",
    "#run these:\n",
    "#pip install --upgrade --force-reinstall git+https://github.com/stephane-caron/pypoman\n",
    "#pip install qpsolvers\n",
    "#pip install quadprog\n",
    "import qpsolvers\n",
    "print(qpsolvers.available_solvers)"
   ]
  },
  {
   "cell_type": "markdown",
   "id": "c035c00e",
   "metadata": {},
   "source": [
    "## Betting UI-NNSMs with $\\boldsymbol{\\eta}$-adaptive and $\\boldsymbol{\\eta}$-nonadaptive bets"
   ]
  },
  {
   "cell_type": "code",
   "execution_count": 3,
   "id": "904c0418",
   "metadata": {},
   "outputs": [],
   "source": [
    "N = np.array([1000, 1000, 1000])\n",
    "n = [50, 80, 100]\n",
    "w = N/np.sum(N)\n",
    "K = 3\n",
    "eta = np.ones(K)/K\n",
    "\n",
    "samples = [0.5 * np.ones(n[0]), 0.5 * np.ones(n[1]), 0.6 * np.ones(n[2])]\n",
    "#samples = [np.random.normal(0.4, .05, n[0]), np.random.normal(0.7, .05, n[1]), np.random.normal(0.7, .05, n[2])]\n",
    "#samples = [np.random.binomial(1, 0.4, n[0]), np.random.binomial(1, 0.5, n[1]), np.random.binomial(1, 0.7, n[2])]"
   ]
  },
  {
   "cell_type": "code",
   "execution_count": 26,
   "id": "4acefe22",
   "metadata": {},
   "outputs": [],
   "source": [
    "#what is efficient way to set up a grid?\n",
    "breaks = 10\n",
    "x = y = np.linspace(0, 1, breaks)\n",
    "xx, yy = np.meshgrid(x, y)"
   ]
  },
  {
   "cell_type": "code",
   "execution_count": 35,
   "id": "ae11b10e",
   "metadata": {},
   "outputs": [],
   "source": [
    "means = []\n",
    "for lst in itertools.combinations_with_replacement([0,0.25,1], r = 50):\n",
    "    means.append(np.mean(lst)) if np.mean(lst) not in means else lst"
   ]
  },
  {
   "cell_type": "code",
   "execution_count": 51,
   "id": "bad85a67",
   "metadata": {},
   "outputs": [
    {
     "data": {
      "text/plain": [
       "7626496.0"
      ]
     },
     "execution_count": 51,
     "metadata": {},
     "output_type": "execute_result"
    }
   ],
   "source": [
    "K = 3 \n",
    "calX = [[0,.5,1], [0, 0.25, 1], [0,1]]\n",
    "N = [30,30,30]\n",
    "w = N / np.sum(N)\n",
    "ub_size = 1\n",
    "for k in np.arange(K):\n",
    "    ub_size *= sp.special.comb(N[k] + len(calX[k]) - 1, len(calX[k]) - 1)\n",
    "ub_size"
   ]
  },
  {
   "cell_type": "code",
   "execution_count": 55,
   "id": "583a9773",
   "metadata": {},
   "outputs": [
    {
     "data": {
      "text/plain": [
       "114294"
      ]
     },
     "execution_count": 55,
     "metadata": {},
     "output_type": "execute_result"
    }
   ],
   "source": [
    "means = [[] for _ in range(K)]\n",
    "eta_0 = 0.5\n",
    "for k in np.arange(K):\n",
    "    for lst in itertools.combinations_with_replacement(calX[k], r = N[k]):\n",
    "        means[k].append(np.mean(lst)) if np.mean(lst) not in means[k] else lst\n",
    "etas = []\n",
    "for crt_prd in itertools.product(*means):\n",
    "    etas.append(crt_prd) if np.dot(w, crt_prd) <= eta_0 else crt_prd\n",
    "len(etas) #note: UB is about 7e6, but actual number is about 1e5, so fairly loose"
   ]
  },
  {
   "cell_type": "code",
   "execution_count": 31,
   "id": "37f1dfe6",
   "metadata": {},
   "outputs": [
    {
     "name": "stderr",
     "output_type": "stream",
     "text": [
      "/Users/Jake/Dropbox/RLAs/UI-NNSMs/Code/utils.py:52: RuntimeWarning: divide by zero encountered in double_scalars\n",
      "  lam_trunc = np.maximum(0, np.minimum(lam_untrunc, .75/eta))\n"
     ]
    },
    {
     "data": {
      "text/plain": [
       "0.486"
      ]
     },
     "execution_count": 31,
     "metadata": {},
     "output_type": "execute_result"
    }
   ],
   "source": [
    "wright_lower_bound(x = samples, N = N, lam_func = Bets.lam_agrapa, alpha = 0.05, breaks = 1000)"
   ]
  },
  {
   "cell_type": "code",
   "execution_count": 28,
   "id": "df0cab23",
   "metadata": {},
   "outputs": [
    {
     "data": {
      "text/plain": [
       "[[], [], []]"
      ]
     },
     "execution_count": 28,
     "metadata": {},
     "output_type": "execute_result"
    }
   ],
   "source": [
    "lists = [[] for _ in range(K)]\n",
    "lists"
   ]
  },
  {
   "cell_type": "code",
   "execution_count": 34,
   "id": "87c2953a",
   "metadata": {},
   "outputs": [
    {
     "data": {
      "image/png": "[encoded data removed]",
      "text/plain": [
       "<Figure size 432x288 with 1 Axes>"
      ]
     },
     "metadata": {
      "needs_background": "light"
     },
     "output_type": "display_data"
    }
   ],
   "source": [
    "plot_marts_eta(\n",
    "    x = samples[1:3], \n",
    "    N = N[1:3], \n",
    "    lam_func = Bets.lam_smooth, \n",
    "    combine = \"fisher\", \n",
    "    theta_func = Weights.theta_fixed, \n",
    "    log = False)"
   ]
  },
  {
   "cell_type": "code",
   "execution_count": null,
   "id": "70b3b6cf",
   "metadata": {},
   "outputs": [],
   "source": []
  }
 ],
 "metadata": {
  "kernelspec": {
   "display_name": "Python 3 (ipykernel)",
   "language": "python",
   "name": "python3"
  },
  "language_info": {
   "codemirror_mode": {
    "name": "ipython",
    "version": 3
   },
   "file_extension": ".py",
   "mimetype": "text/x-python",
   "name": "python",
   "nbconvert_exporter": "python",
   "pygments_lexer": "ipython3",
   "version": "3.9.12"
  }
 },
 "nbformat": 4,
 "nbformat_minor": 5
}
