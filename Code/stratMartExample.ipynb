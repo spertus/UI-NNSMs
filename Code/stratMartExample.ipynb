{
 "cells": [
  {
   "cell_type": "code",
   "execution_count": 1,
   "id": "c7c83862",
   "metadata": {},
   "outputs": [],
   "source": [
    "import math\n",
    "import pypoman\n",
    "import scipy as sp\n",
    "import pandas as pd\n",
    "import matplotlib.pyplot as plt\n",
    "import itertools\n",
    "import os\n",
    "import random\n",
    "from scipy.stats import bernoulli, uniform, chi2\n",
    "import numpy as np\n",
    "from scipy.stats.mstats import gmean\n",
    "from numpy.testing import assert_allclose\n",
    "from iteround import saferound\n",
    "from utils import Bets, Allocations, Weights, mart, lower_confidence_bound, global_lower_bound,\\\n",
    "    intersection_mart, plot_marts_eta, construct_eta_grid, union_intersection_mart, selector,\\\n",
    "    construct_eta_grid_plurcomp, construct_vertex_etas, simulate_comparison_audit, random_truncated_gaussian,\\\n",
    "    PGD, negexp_ui_mart, stratified_t_test\n",
    "#np.random.seed(123456789)\n",
    "np.random.seed(1337)"
   ]
  },
  {
   "cell_type": "code",
   "execution_count": 2,
   "id": "5309e8eb",
   "metadata": {},
   "outputs": [
    {
     "name": "stdout",
     "output_type": "stream",
     "text": [
      "CPU times: user 2.5 s, sys: 7.38 ms, total: 2.51 s\n",
      "Wall time: 2.51 s\n"
     ]
    }
   ],
   "source": [
    "%%time \n",
    "\n",
    "#alt_grid = np.linspace(0.51, 0.75, 3)\n",
    "alt_grid = [0.75]\n",
    "delta_grid = [0.5]\n",
    "alpha = 0.05\n",
    "eta_0 = 0.5\n",
    "\n",
    "methods_list = ['uinnsm_product']\n",
    "bets_dict = {\n",
    "    \"fixed\":Bets.fixed,\n",
    "    \"agrapa\":lambda x, eta: Bets.agrapa(x, eta, c = 0.95),\n",
    "    \"smooth_predictable\":Bets.smooth_predictable}\n",
    "bets_list = [\"smooth_predictable\"]\n",
    "allocations_dict = {\n",
    "    \"round_robin\":Allocations.round_robin,\n",
    "    \"larger_means\":Allocations.more_to_larger_means,\n",
    "    \"predictable_kelly\":Allocations.predictable_kelly,\n",
    "    \"minimax\":Allocations.predictable_kelly}\n",
    "allocations_list = [\"minimax\",\"round_robin\"]\n",
    "#allocations_list = [\"minimax\"]\n",
    "\n",
    "K = 2\n",
    "N = [200, 200]\n",
    "results = []\n",
    "\n",
    "for alt, delta, method, bet, allocation in itertools.product(alt_grid, delta_grid, methods_list, bets_list, allocations_list):\n",
    "    means = [alt - 0.5*delta, alt + 0.5*delta]\n",
    "    calX = [np.array([0, means[0]]),np.array([0, means[1]])]\n",
    "    samples = [np.ones(N[0]) * means[0], np.ones(N[1]) * means[1]]\n",
    "    eta_grid, calC, ub_calC = construct_eta_grid(eta_0, calX, N)\n",
    "\n",
    "\n",
    "    if method == 'lcb':\n",
    "        min_eta = None\n",
    "        if bet == 'uniform_mixture' or allocation in ['proportional_to_mart','predictable_kelly','minimax']:\n",
    "            stopping_time = None\n",
    "        else:\n",
    "            lower_bound = global_lower_bound(\n",
    "                x = samples,\n",
    "                N = N,\n",
    "                lam_func = bets_dict[bet],\n",
    "                allocation_func = allocations_dict[allocation],\n",
    "                alpha = alpha,\n",
    "                breaks = 1000,\n",
    "                WOR = False)\n",
    "            stopping_time = np.where(any(lower_bound > eta_0), np.argmax(lower_bound > eta_0), np.sum(N))\n",
    "            min_eta = None\n",
    "    elif method == 'uinnsm_product':\n",
    "        if allocation == 'minimax':\n",
    "            if bet == 'smooth_predictable':\n",
    "                ui_mart_minimax, min_etas_minimax, T_k_minimax = negexp_ui_mart(samples, N, Allocations.predictable_kelly, log = False)\n",
    "                stopping_time = np.where(any(ui_mart_minimax > 1/alpha), np.argmax(ui_mart_minimax > 1/alpha), np.sum(N))\n",
    "                min_eta = min_etas_minimax[stopping_time]\n",
    "            else:\n",
    "                stopping_time = None\n",
    "                min_eta = None\n",
    "        else:\n",
    "            ui_mart_rr, min_etas_rr, global_ss_rr, T_k_rr = union_intersection_mart(\n",
    "                        x = samples,\n",
    "                        N = N,\n",
    "                        etas = eta_grid,\n",
    "                        lam_func = bets_dict[bet],\n",
    "                        allocation_func = allocations_dict[allocation],\n",
    "                        combine = \"product\",\n",
    "                        log = False,\n",
    "                        WOR = False)\n",
    "            pval = np.minimum(1, 1/ui_mart_rr)\n",
    "            stopping_time = np.where(any(ui_mart_rr > 1/alpha), np.argmax(ui_mart_rr > 1/alpha), np.sum(N))\n",
    "            min_eta = min_etas_rr[stopping_time]\n",
    "    elif method == 'uinnsm_fisher' and allocation != 'minimax':\n",
    "        pval, min_etas, global_ss, T_k = union_intersection_mart(\n",
    "                    x = samples,\n",
    "                    N = N,\n",
    "                    etas = eta_grid,\n",
    "                    lam_func = bets_dict[bet],\n",
    "                    allocation_func = allocations_dict[allocation],\n",
    "                    combine = \"fisher\",\n",
    "                    log = False,\n",
    "                    WOR = False)\n",
    "        stopping_time = np.where(any(pval < alpha), np.argmax(pval < alpha), np.sum(N))\n",
    "        min_eta = min_etas[stopping_time]\n",
    "    #instead of recording stopping times, we record the P-value at every time\n",
    "    # for i in range(pval.shape[0]):\n",
    "    #     data_dict = {\n",
    "    #         \"alt\":alt,\n",
    "    #         \"delta\":delta,\n",
    "    #         \"method\":str(method),\n",
    "    #         \"bet\":str(bet),\n",
    "    #         \"allocation\":str(allocation),\n",
    "    #         \"time\": i + 1,\n",
    "    #         \"pval\": pval[i],\n",
    "    #         \"min_eta_1\": min_eta[i,0]\n",
    "    #         }\n",
    "    data_dict = {\n",
    "        \"alt\":alt,\n",
    "        \"delta\":delta,\n",
    "        \"method\":str(method),\n",
    "        \"bet\":str(bet),\n",
    "        \"allocation\":str(allocation),\n",
    "        \"stopping_time\":stopping_time,\n",
    "        \"worst_case_eta\":min_eta}\n",
    "    results.append(data_dict)\n",
    "results = pd.DataFrame(results)"
   ]
  },
  {
   "cell_type": "code",
   "execution_count": 3,
   "id": "cecf2caf",
   "metadata": {},
   "outputs": [
    {
     "data": {
      "text/plain": [
       "(9.147406208009434, 10.735002883965713)"
      ]
     },
     "execution_count": 3,
     "metadata": {},
     "output_type": "execute_result"
    }
   ],
   "source": [
    "ui_mart_rr[10], ui_mart_minimax[10]"
   ]
  },
  {
   "cell_type": "code",
   "execution_count": 4,
   "id": "58bfd52c",
   "metadata": {},
   "outputs": [
    {
     "data": {
      "text/plain": [
       "(array([0.365, 0.635]), array([0.2416352, 0.7583648]))"
      ]
     },
     "execution_count": 4,
     "metadata": {},
     "output_type": "execute_result"
    }
   ],
   "source": [
    "min_etas_rr[10,:], min_etas_minimax[10,:]"
   ]
  },
  {
   "cell_type": "code",
   "execution_count": 5,
   "id": "fb69e10d",
   "metadata": {},
   "outputs": [
    {
     "data": {
      "text/plain": [
       "(array([5., 5.]), array([7, 3]))"
      ]
     },
     "execution_count": 5,
     "metadata": {},
     "output_type": "execute_result"
    }
   ],
   "source": [
    "T_k_rr[10,:], T_k_minimax[10,:]"
   ]
  },
  {
   "cell_type": "code",
   "execution_count": 3,
   "id": "17c4c283",
   "metadata": {},
   "outputs": [
    {
     "ename": "NameError",
     "evalue": "name 'samples' is not defined",
     "output_type": "error",
     "traceback": [
      "\u001b[0;31m---------------------------------------------------------------------------\u001b[0m",
      "\u001b[0;31mNameError\u001b[0m                                 Traceback (most recent call last)",
      "Input \u001b[0;32mIn [3]\u001b[0m, in \u001b[0;36m<cell line: 1>\u001b[0;34m()\u001b[0m\n\u001b[0;32m----> 1\u001b[0m x \u001b[38;5;241m=\u001b[39m \u001b[43msamples\u001b[49m\n\u001b[1;32m      2\u001b[0m etas \u001b[38;5;241m=\u001b[39m eta_grid\n\u001b[1;32m      3\u001b[0m lam_func \u001b[38;5;241m=\u001b[39m Bets\u001b[38;5;241m.\u001b[39msmooth_predictable\n",
      "\u001b[0;31mNameError\u001b[0m: name 'samples' is not defined"
     ]
    }
   ],
   "source": [
    "x = samples\n",
    "etas = eta_grid\n",
    "lam_func = Bets.smooth_predictable\n",
    "#lam_func = Bets.fixed\n",
    "mixture = None\n",
    "allocation_func = Allocations.round_robin\n",
    "combine = \"product\"\n",
    "theta_func = None\n",
    "log = False\n",
    "WOR = False \n",
    "nonadaptive_allocations = [Allocations.round_robin, Allocations.proportional_round_robin, Allocations.neyman, Allocations.more_to_larger_means]\n",
    "\n",
    "assert (lam_func is None) or (mixture is None), \"cannot specify both a mixture strategy and predictable lambda function\"\n",
    "K = len(x)\n",
    "w = N / np.sum(N)\n",
    "if mixture == \"vertex\":\n",
    "    vertices = construct_vertex_etas(eta_0_mixture, N)\n",
    "    mixing_dist = 1 - np.array(vertices)\n",
    "elif mixture == \"uniform\":\n",
    "    lam_grids = K * [np.linspace(0.01,0.99,10)]\n",
    "    mixing_dist = np.array(list(itertools.product(*lam_grids)))\n",
    "elif mixture is None:\n",
    "    mixing_dist = None\n",
    "else:\n",
    "    stop(\"Specify a valid mixture method; either uniform or vertex\")\n",
    "#evaluate intersection mart on every eta\n",
    "obj = np.zeros((len(etas), np.sum(N) + 1))\n",
    "sel = np.zeros((len(etas), np.sum(N) + 1, K))\n",
    "for i in np.arange(len(etas)):\n",
    "    obj[i,:], sel[i,:,:] = intersection_mart(\n",
    "        x = x,\n",
    "        N = N,\n",
    "        eta = etas[i],\n",
    "        lam_func = lam_func,\n",
    "        mixing_dist = mixing_dist,\n",
    "        allocation_func = allocation_func,\n",
    "        combine = combine,\n",
    "        theta_func = theta_func,\n",
    "        log = log,\n",
    "        WOR = WOR,\n",
    "        return_selections = True)\n",
    "#return the global selections if nonadaptive; otherwise return None\n",
    "if allocation_func in nonadaptive_allocations:\n",
    "    T_k = sel[0,:,:]\n",
    "else:\n",
    "    T_k = None\n",
    "opt_index = np.argmin(obj, 0) if combine != \"fisher\" else np.argmax(obj, 0)\n",
    "eta_opt = np.zeros((np.sum(N) + 1, len(x)))\n",
    "mart_opt = np.zeros(np.sum(N) + 1)\n",
    "global_sample_size = np.sum(np.max(sel, 0), 1)\n",
    "for i in np.arange(np.sum(N) + 1):\n",
    "    eta_opt[i,:] = etas[opt_index[i]]\n",
    "    mart_opt[i] = obj[opt_index[i],i]"
   ]
  },
  {
   "cell_type": "code",
   "execution_count": 7,
   "id": "051eeab4",
   "metadata": {},
   "outputs": [
    {
     "data": {
      "text/plain": [
       "[<matplotlib.lines.Line2D at 0x7fc63bbb9a00>]"
      ]
     },
     "execution_count": 7,
     "metadata": {},
     "output_type": "execute_result"
    },
    {
     "data": {
      "image/png": "[encoded data removed]",
      "text/plain": [
       "<Figure size 432x288 with 1 Axes>"
      ]
     },
     "metadata": {
      "needs_background": "light"
     },
     "output_type": "display_data"
    }
   ],
   "source": [
    "plt.plot(np.log(obj[:,10]))"
   ]
  },
  {
   "cell_type": "code",
   "execution_count": 2,
   "id": "19000bee",
   "metadata": {},
   "outputs": [
    {
     "name": "stderr",
     "output_type": "stream",
     "text": [
      "/Users/Jake/Dropbox/RLAs/UI-NNSMs/Code/utils.py:74: RuntimeWarning: divide by zero encountered in true_divide\n",
      "  lam_trunc = np.maximum(0, np.minimum(lam_untrunc, c/eta))\n"
     ]
    }
   ],
   "source": [
    "alpha = 0.05\n",
    "eta_0 = 1/2\n",
    "reps = 1 #sort of deprecated. Repetions now occur in parallel, through SLURM\n",
    "#sim_rep = os.getenv('SLURM_ARRAY_TASK_ID')\n",
    "sim_rep = 2\n",
    "np.random.seed(int(sim_rep)) #this sets a different seed for every rep\n",
    "\n",
    "\n",
    "K_grid = [2]\n",
    "#global_mean_grid = np.linspace(0.5, 0.7, 10)\n",
    "global_mean_grid = [0.5]\n",
    "delta_grid = [0] #maximum spread of the stratum means\n",
    "sd_grid = [0.05]\n",
    "\n",
    "results = []\n",
    "for K, global_mean, delta, sd in itertools.product(K_grid, global_mean_grid, delta_grid, sd_grid):\n",
    "    shifts = np.linspace(-0.5,0.5,K)\n",
    "    deltas = shifts * delta\n",
    "    N = [int(1000/K) for _ in range(K)]\n",
    "    w = N/np.sum(N)\n",
    "    etas = construct_vertex_etas(N = N, eta_0 = eta_0)\n",
    "\n",
    "\n",
    "    x = [random_truncated_gaussian(mean = global_mean + deltas[k], sd = sd, size = N[k]) for k in range(K)]\n",
    "    #unstratified sample by mixing\n",
    "    x_unstrat = np.zeros(np.sum(N))\n",
    "    for i in range(np.sum(N)):\n",
    "        rand_k =  np.random.choice(np.arange(K), size = 1, p = w)\n",
    "        x_unstrat[i] = random_truncated_gaussian(mean = global_mean + deltas[rand_k], sd = sd, size = 1)\n",
    "\n",
    "    unstrat_fixed = mart(x_unstrat, eta = 0.5, lam_func = Bets.fixed, log = True)\n",
    "    unstrat_agrapa = mart(x_unstrat, eta = 0.5, lam_func = Bets.agrapa, log = True)\n",
    "    lcb_fixed = global_lower_bound(x, N, Bets.fixed, Allocations.proportional_round_robin, alpha = 0.05, WOR = False, breaks = 1000)\n",
    "    lcb_agrapa = global_lower_bound(x, N, Bets.agrapa, Allocations.proportional_round_robin, alpha = 0.05, WOR = False, breaks = 1000)\n",
    "    uinnsm_fixed = union_intersection_mart(x, N, etas, Bets.fixed, Allocations.proportional_round_robin, WOR = False, combine = \"product\", log = True)[0]\n",
    "    uinnsm_smooth = negexp_ui_mart(x, N, Allocations.proportional_round_robin, log = True)[0]\n",
    "    uinnsm_smooth_minimax = negexp_ui_mart(x, N, Allocations.predictable_kelly, log = True)[0]\n",
    "\n",
    "    stop_unstrat_fixed = np.where(any(unstrat_fixed > -np.log(alpha)), np.argmax(unstrat_fixed > -np.log(alpha)), np.sum(N))\n",
    "    stop_unstrat_agrapa = np.where(any(unstrat_agrapa > -np.log(alpha)), np.argmax(unstrat_agrapa > -np.log(alpha)), np.sum(N))\n",
    "    stop_lcb_agrapa = np.where(any(lcb_agrapa > eta_0), np.argmax(lcb_agrapa > eta_0), np.sum(N))\n",
    "    stop_lcb_fixed = np.where(any(lcb_fixed > eta_0), np.argmax(lcb_fixed > eta_0), np.sum(N))\n",
    "    stop_uinnsm_fixed = np.where(any(uinnsm_fixed > -np.log(alpha)), np.argmax(uinnsm_fixed > -np.log(alpha)), np.sum(N))\n",
    "    stop_uinnsm_smooth = np.where(any(uinnsm_smooth > -np.log(alpha)), np.argmax(uinnsm_smooth > -np.log(alpha)), np.sum(N))\n",
    "    stop_uinnsm_smooth_minimax = np.where(any(uinnsm_smooth_minimax > -np.log(alpha)), np.argmax(uinnsm_smooth_minimax > -np.log(alpha)), np.sum(N))\n",
    "\n",
    "    results_dict = {\n",
    "        \"K\":K,\n",
    "        \"global_mean\":global_mean,\n",
    "        \"delta\":delta,\n",
    "        \"sd\":sd,\n",
    "        \"rep\":sim_rep,\n",
    "        \"stop_unstrat_fixed\":stop_unstrat_fixed,\n",
    "        \"stop_unstrat_agrapa\":stop_unstrat_agrapa,\n",
    "        \"stop_lcb_fixed\":stop_lcb_fixed,\n",
    "        \"stop_lcb_agrapa\":stop_lcb_agrapa,\n",
    "        \"stop_uinnsm_fixed\":stop_uinnsm_fixed,\n",
    "        \"stop_uinnsm_smooth\":stop_uinnsm_smooth,\n",
    "        \"stop_uinnsm_smooth_minimax\":stop_uinnsm_smooth_minimax\n",
    "    }\n",
    "    results.append(results_dict)\n",
    "results = pd.DataFrame(results)"
   ]
  },
  {
   "cell_type": "code",
   "execution_count": 3,
   "id": "88f68b85",
   "metadata": {},
   "outputs": [],
   "source": [
    "ne_smooth = negexp_ui_mart(x, N, Allocations.proportional_round_robin, log = True)\n",
    "ne_smooth_minimax = negexp_ui_mart(x, N, Allocations.predictable_kelly, log = True)"
   ]
  },
  {
   "cell_type": "code",
   "execution_count": 4,
   "id": "763134c2",
   "metadata": {},
   "outputs": [
    {
     "data": {
      "text/plain": [
       "([<matplotlib.lines.Line2D at 0x7fc453b68be0>],\n",
       " [<matplotlib.lines.Line2D at 0x7fc453bcc190>])"
      ]
     },
     "execution_count": 4,
     "metadata": {},
     "output_type": "execute_result"
    },
    {
     "data": {
      "image/png": "[encoded data removed]",
      "text/plain": [
       "<Figure size 432x288 with 1 Axes>"
      ]
     },
     "metadata": {
      "needs_background": "light"
     },
     "output_type": "display_data"
    }
   ],
   "source": [
    "plt.plot(ne_smooth_minimax[2][:,1]), plt.plot(ne_smooth[2][:,1])"
   ]
  },
  {
   "cell_type": "code",
   "execution_count": null,
   "id": "e92ecaa3",
   "metadata": {},
   "outputs": [],
   "source": []
  },
  {
   "cell_type": "code",
   "execution_count": 5,
   "id": "e75e9702",
   "metadata": {},
   "outputs": [
    {
     "data": {
      "text/plain": [
       "[<matplotlib.lines.Line2D at 0x7fc4585cb760>]"
      ]
     },
     "execution_count": 5,
     "metadata": {},
     "output_type": "execute_result"
    },
    {
     "data": {
      "image/png": "[encoded data removed]",
      "text/plain": [
       "<Figure size 432x288 with 1 Axes>"
      ]
     },
     "metadata": {
      "needs_background": "light"
     },
     "output_type": "display_data"
    }
   ],
   "source": [
    "plt.plot(uinnsm_smooth_minimax)"
   ]
  },
  {
   "cell_type": "code",
   "execution_count": 66,
   "id": "920cd031",
   "metadata": {},
   "outputs": [
    {
     "ename": "Exception",
     "evalue": "Gradient descent took too many steps to converge. Raise max_iterations, or check conditioning of the optimization problem.",
     "output_type": "error",
     "traceback": [
      "\u001b[0;31m---------------------------------------------------------------------------\u001b[0m",
      "\u001b[0;31mException\u001b[0m                                 Traceback (most recent call last)",
      "Input \u001b[0;32mIn [66]\u001b[0m, in \u001b[0;36m<cell line: 33>\u001b[0;34m()\u001b[0m\n\u001b[1;32m     55\u001b[0m counter \u001b[38;5;241m+\u001b[39m\u001b[38;5;241m=\u001b[39m \u001b[38;5;241m1\u001b[39m\n\u001b[1;32m     56\u001b[0m \u001b[38;5;28;01mif\u001b[39;00m counter \u001b[38;5;241m==\u001b[39m max_iterations:\n\u001b[0;32m---> 57\u001b[0m     \u001b[38;5;28;01mraise\u001b[39;00m \u001b[38;5;167;01mException\u001b[39;00m(\u001b[38;5;124m\"\u001b[39m\u001b[38;5;124mGradient descent took too many steps to converge. Raise max_iterations, or check conditioning of the optimization problem.\u001b[39m\u001b[38;5;124m\"\u001b[39m)\n\u001b[1;32m     58\u001b[0m grad_l \u001b[38;5;241m=\u001b[39m PGD\u001b[38;5;241m.\u001b[39mgrad(samples_t[i], eta_l)\n\u001b[1;32m     59\u001b[0m hess_l \u001b[38;5;241m=\u001b[39m PGD\u001b[38;5;241m.\u001b[39mhessian(samples_t[i], eta_l)\n",
      "\u001b[0;31mException\u001b[0m: Gradient descent took too many steps to converge. Raise max_iterations, or check conditioning of the optimization problem."
     ]
    }
   ],
   "source": [
    "max_iterations = 1000\n",
    "\n",
    "allocation_func = Allocations.predictable_kelly\n",
    "#allocation_func = Allocations.proportional_round_robin\n",
    "\n",
    "log = True\n",
    "w = N / np.sum(N) #stratum weights\n",
    "K = len(N) #number of strata\n",
    "n = [x[k].shape[0] for k in range(K)]    \n",
    "global_mean = 0.5\n",
    "deltas = [-0.4,0.4]\n",
    "#x = [random_truncated_gaussian(mean = global_mean + deltas[k], sd = sd, size = N[k]) for k in range(K)]\n",
    "\n",
    "#define constraint set for pypoman projection\n",
    "A = np.concatenate((\n",
    "    np.expand_dims(w, axis = 0),\n",
    "    np.expand_dims(-w, axis = 0),\n",
    "    -np.identity(K),\n",
    "    np.identity(K)))\n",
    "b = np.concatenate((eta_0 * np.ones(2), np.zeros(K), np.ones(K)))\n",
    "proj = lambda eta: pypoman.projection.project_point_to_polytope(point = eta, ineq = (A, b))\n",
    "delta = 0.5 #dampening parameter\n",
    "\n",
    "#this is a nested list of arrays\n",
    "#it stores the samples available in each stratum at time i = 0,1,2,...,n\n",
    "samples_t = [[[] for _ in range(K)] for _ in range(np.sum(n))]\n",
    "#initialize with no samples\n",
    "uinnsms = [0] if log else 1 #uinnsm starts at 1 at time 0\n",
    "samples_t[0] = [np.array([]) for _ in range(K)] #initialize with no samples\n",
    "T_k = np.zeros((np.sum(n), K), dtype = int)\n",
    "eta_stars = np.zeros((np.sum(n), K))\n",
    "\n",
    "for i in np.arange(1, 300-1):\n",
    "    #select next stratum\n",
    "    S_i = allocation_func(x, T_k[i-1,:], n, N, eta = eta_stars[i-1], lam_func = Bets.smooth_predictable)\n",
    "    T_k[i,:] = T_k[i-1,:]\n",
    "    T_k[i,S_i] += 1\n",
    "    for k in np.arange(K):\n",
    "        samples_t[i][k] = x[k][np.arange(T_k[i,k])] #update available samples\n",
    "    #initial estimate of minimum by projecting current sample mean onto null space\n",
    "    if any(T_k[i,:] == 0):\n",
    "        sample_means = np.array([eta_0 for _ in range(K)])\n",
    "    else:\n",
    "        sample_means = np.array([np.mean(samples_t[i][k]) for k in range(K)])\n",
    "    #eta_l = proj(sample_means)\n",
    "    eta_l = np.array([0.5,0.5])\n",
    "    #eta_l = np.array([0.1,0.9])\n",
    "    step_size = 1\n",
    "    counter = 0\n",
    "    etas = eta_l\n",
    "    objs = 0\n",
    "    #find optimum\n",
    "    #while step_size > 1e-5:\n",
    "    while np.linalg.norm(grad_l) > 0.001:\n",
    "        counter += 1\n",
    "        if counter == max_iterations:\n",
    "            raise Exception(\"Gradient descent took too many steps to converge. Raise max_iterations, or check conditioning of the optimization problem.\")\n",
    "        grad_l = PGD.grad(samples_t[i], eta_l)\n",
    "        hess_l = PGD.hessian(samples_t[i], eta_l)\n",
    "        #take dampened Newton step and then project onto null\n",
    "        next_eta = proj(eta_l - (delta/hess_l) * grad_l)\n",
    "        step_size = PGD.global_log_mart(samples_t[i], eta_l) - PGD.global_log_mart(samples_t[i], next_eta)\n",
    "        eta_l = next_eta\n",
    "        etas = np.vstack([etas, eta_l])\n",
    "        objs = np.vstack([objs, PGD.global_log_mart(samples_t[i], next_eta)])\n",
    "#         if counter > 50: \n",
    "#             break \n",
    "#     if counter > 50:\n",
    "#         break\n",
    "    eta_stars[i] = eta_l\n",
    "    #store current value of UI-TS\n",
    "    log_ts = PGD.global_log_mart(samples_t[i], eta_stars[i])\n",
    "    if log:\n",
    "        uinnsms.append(log_ts)\n",
    "    else:\n",
    "        uinnsms.append(np.exp(log_ts))"
   ]
  },
  {
   "cell_type": "code",
   "execution_count": 67,
   "id": "8c27b744",
   "metadata": {},
   "outputs": [
    {
     "data": {
      "text/plain": [
       "[<matplotlib.lines.Line2D at 0x7fc471103f40>]"
      ]
     },
     "execution_count": 67,
     "metadata": {},
     "output_type": "execute_result"
    },
    {
     "data": {
      "image/png": "[encoded data removed]",
      "text/plain": [
       "<Figure size 432x288 with 1 Axes>"
      ]
     },
     "metadata": {
      "needs_background": "light"
     },
     "output_type": "display_data"
    }
   ],
   "source": [
    "#plot uinnsms over sampling time\n",
    "plt.plot(uinnsms)"
   ]
  },
  {
   "cell_type": "code",
   "execution_count": 68,
   "id": "0a4351a7",
   "metadata": {},
   "outputs": [
    {
     "data": {
      "text/plain": [
       "array([1.28475349e+00, 1.11022302e-16])"
      ]
     },
     "execution_count": 68,
     "metadata": {},
     "output_type": "execute_result"
    }
   ],
   "source": [
    "eta_l - (1/hess_l) * grad_l"
   ]
  },
  {
   "cell_type": "code",
   "execution_count": 63,
   "id": "d601c2f8",
   "metadata": {},
   "outputs": [
    {
     "data": {
      "text/plain": [
       "array([1.00000000e+00, 1.11022302e-16])"
      ]
     },
     "execution_count": 63,
     "metadata": {},
     "output_type": "execute_result"
    }
   ],
   "source": [
    "#it seems like the problem is that the optimization can become very poorly conditioned \n",
    "#in particular if the sample sizes are highly imbalanced, or if \n",
    "proj(eta_l - (delta/hess_l) * grad_l)"
   ]
  },
  {
   "cell_type": "code",
   "execution_count": 64,
   "id": "0a2c0fbe",
   "metadata": {},
   "outputs": [
    {
     "data": {
      "text/plain": [
       "[<matplotlib.lines.Line2D at 0x7fc4542687c0>]"
      ]
     },
     "execution_count": 64,
     "metadata": {},
     "output_type": "execute_result"
    },
    {
     "data": {
      "image/png": "[encoded data removed]",
      "text/plain": [
       "<Figure size 432x288 with 1 Axes>"
      ]
     },
     "metadata": {
      "needs_background": "light"
     },
     "output_type": "display_data"
    }
   ],
   "source": [
    "#plot objective over PGD steps\n",
    "plt.plot(objs)"
   ]
  },
  {
   "cell_type": "code",
   "execution_count": 65,
   "id": "df129b42",
   "metadata": {},
   "outputs": [
    {
     "data": {
      "text/plain": [
       "[<matplotlib.lines.Line2D at 0x7fc45421d580>]"
      ]
     },
     "execution_count": 65,
     "metadata": {},
     "output_type": "execute_result"
    },
    {
     "data": {
      "image/png": "[encoded data removed]",
      "text/plain": [
       "<Figure size 432x288 with 1 Axes>"
      ]
     },
     "metadata": {
      "needs_background": "light"
     },
     "output_type": "display_data"
    }
   ],
   "source": [
    "#plot eta over PGD steps\n",
    "plt.plot(etas[:,0])"
   ]
  },
  {
   "cell_type": "code",
   "execution_count": 49,
   "id": "42c218b2",
   "metadata": {},
   "outputs": [
    {
     "data": {
      "image/png": "[encoded data removed]",
      "text/plain": [
       "<Figure size 432x288 with 1 Axes>"
      ]
     },
     "metadata": {
      "needs_background": "light"
     },
     "output_type": "display_data"
    }
   ],
   "source": [
    "plot_marts_eta(x = samples_t[3],\n",
    "               N = N, \n",
    "               lam_func = Bets.smooth_predictable, \n",
    "               allocation_func = Allocations.predictable_kelly,\n",
    "               combine = \"product\",\n",
    "               res = 2e-2)"
   ]
  }
 ],
 "metadata": {
  "kernelspec": {
   "display_name": "Python 3 (ipykernel)",
   "language": "python",
   "name": "python3"
  },
  "language_info": {
   "codemirror_mode": {
    "name": "ipython",
    "version": 3
   },
   "file_extension": ".py",
   "mimetype": "text/x-python",
   "name": "python",
   "nbconvert_exporter": "python",
   "pygments_lexer": "ipython3",
   "version": "3.9.12"
  }
 },
 "nbformat": 4,
 "nbformat_minor": 5
}
