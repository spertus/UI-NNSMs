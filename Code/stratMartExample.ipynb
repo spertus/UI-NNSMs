{
 "cells": [
  {
   "cell_type": "code",
   "execution_count": 1,
   "id": "c7c83862",
   "metadata": {},
   "outputs": [],
   "source": [
    "import math\n",
    "import pypoman\n",
    "import scipy as sp\n",
    "import matplotlib.pyplot as plt\n",
    "from scipy.stats import bernoulli, uniform, chi2\n",
    "import numpy as np\n",
    "from scipy.stats.mstats import gmean\n",
    "from numpy.testing import assert_allclose\n",
    "from iteround import saferound\n",
    "from utils import Bets, Weights, mart, intersection_mart, plot_marts_eta\n",
    "np.random.seed(123456789)"
   ]
  },
  {
   "cell_type": "code",
   "execution_count": 2,
   "id": "ca1df2e5",
   "metadata": {},
   "outputs": [
    {
     "name": "stdout",
     "output_type": "stream",
     "text": [
      "['cvxopt', 'quadprog']\n"
     ]
    }
   ],
   "source": [
    "#to project onto polytope \\mathcal{C}\n",
    "#need the packages 'qpsolvers' and 'quadprog' as well as the dev version of 'pypoman'\n",
    "#run these:\n",
    "#pip install --upgrade --force-reinstall git+https://github.com/stephane-caron/pypoman\n",
    "#pip install qpsolvers\n",
    "#pip install quadprog\n",
    "import qpsolvers\n",
    "print(qpsolvers.available_solvers)"
   ]
  },
  {
   "cell_type": "markdown",
   "id": "c035c00e",
   "metadata": {},
   "source": [
    "## Betting UI-NNSMs with $\\boldsymbol{\\eta}$-adaptive and $\\boldsymbol{\\eta}$-nonadaptive bets"
   ]
  },
  {
   "cell_type": "code",
   "execution_count": 10,
   "id": "9ad87f93",
   "metadata": {},
   "outputs": [
    {
     "data": {
      "text/plain": [
       "30.010459245033807"
      ]
     },
     "execution_count": 10,
     "metadata": {},
     "output_type": "execute_result"
    }
   ],
   "source": [
    "N = np.array([1000, 1000, 1000])\n",
    "n = [50, 50, 100]\n",
    "w = N/np.sum(N)\n",
    "K = 3\n",
    "eta = np.ones(K)/K\n",
    "\n",
    "samples = [0.5 * np.ones(n[0]), 0.5 * np.ones(n[1]), 0.6 * np.ones(n[2])]\n",
    "#samples = [np.random.normal(0.4, .05, n[0]), np.random.normal(0.7, .05, n[1]), np.random.normal(0.7, .05, n[2])]\n",
    "#samples = [np.random.binomial(1, 0.4, n[0]), np.random.binomial(1, 0.5, n[1]), np.random.binomial(1, 0.7, n[2])]\n",
    "\n",
    "intersection_mart(x = samples, eta = eta, lam_func = Bets.lam_fixed, combine = \"product\", log = True)"
   ]
  },
  {
   "cell_type": "code",
   "execution_count": 14,
   "id": "b94c29b5",
   "metadata": {},
   "outputs": [
    {
     "data": {
      "image/png": "[encoded data removed]",
      "text/plain": [
       "<Figure size 432x288 with 1 Axes>"
      ]
     },
     "metadata": {
      "needs_background": "light"
     },
     "output_type": "display_data"
    }
   ],
   "source": [
    "plot_marts_eta(x = samples[1:3], N = N[1:3], lam_func = Bets.lam_smooth, combine = \"product\", log = True)"
   ]
  },
  {
   "cell_type": "code",
   "execution_count": 61,
   "id": "0b86ab95",
   "metadata": {},
   "outputs": [
    {
     "name": "stdout",
     "output_type": "stream",
     "text": [
      "-0.6257825545296356\n",
      "-0.312597696959239\n",
      "0.6430283681651799\n",
      "0.7315441558157696\n"
     ]
    }
   ],
   "source": [
    "#print(global_log_mart(np.array([0.5, 0, 1])))\n",
    "#print(global_log_mart(np.array([.5, .5, .5])))\n",
    "t = 0.5\n",
    "eta_1 = np.array([0.5,0.5,0.5])\n",
    "eta_2 = np.array([0.6,0.5,0.4])\n",
    "\n",
    "#not convex :P\n",
    "print(t * global_log_mart(eta_1) + (1-t) * global_log_mart(eta_2))\n",
    "print(global_log_mart(t * eta_1 + (1-t) * eta_2))\n",
    "\n",
    "#original martingale\n",
    "print(t * global_mart(eta_1) + (1-t) * global_mart(eta_2))\n",
    "print(global_mart(t * eta_1 + (1-t) * eta_2))"
   ]
  },
  {
   "cell_type": "code",
   "execution_count": 83,
   "id": "ccace26b",
   "metadata": {},
   "outputs": [
    {
     "name": "stdout",
     "output_type": "stream",
     "text": [
      "0.5000015895633967\n",
      "0.001855889647725837\n"
     ]
    }
   ],
   "source": [
    "eta_1 = np.array([0.5])\n",
    "eta_2 = np.array([0.55])\n",
    "#this does seem convex...\n",
    "print(t * mart(eta_1, 0) + (1-t) * mart(eta_2, 0))\n",
    "print(mart(t * eta_1 + (1-t) * eta_2, 0))"
   ]
  },
  {
   "cell_type": "markdown",
   "id": "f4d7be59",
   "metadata": {},
   "source": [
    "# Two-strata fixed $\\lambda$\n",
    "\n",
    "Suppose $K=2$, $N_1 = N_2$, $\\lambda_{ik} = \\lambda$, the two-strata are simply point masses at $x_1, x_2 \\in [0,1]$, and $n_k = n$. Let $\\eta_1 = \\eta$ and $\\eta_2 = 1 - \\eta$. We have:\n",
    "\\begin{align}\n",
    "M_t(\\boldsymbol{\\eta}) &= \\prod_{k=1}^K \\prod_{i=1}^{n_k} [1 + \\lambda_{ik} (X_{ik} - \\eta_k)] \\\\ \n",
    "&= \\prod_{k=1}^2 (1 + \\lambda (x_k - \\eta_k))^n \\\\\n",
    "&= [(1 + \\lambda (x_1 - \\eta)) (1 + \\lambda (x_2 - (1 - \\eta)))]^n\\\\\n",
    "&= [1 + \\lambda x_2 - \\lambda - \\lambda \\eta + \\lambda x_1 + \\lambda^2 x_1 x_2 - \\lambda^2 x_1 - \\lambda^2 x_1 \\eta_2 - \\lambda \\eta - \\lambda^2 x_2 \\eta + \\lambda^2 \\eta + \\lambda^2 \\eta^2]^n\\\\\n",
    "&= [(1 + \\lambda x_2 - \\lambda + \\lambda x_1 + \\lambda^2 x_1 x_2 - \\lambda^2 x_1) + (-2 \\lambda - \\lambda^2 x_1 -\\lambda^2 x_2 + \\lambda^2) \\eta  + \\lambda^2 \\eta^2 ]^n\\\\\n",
    "\\end{align}\n",
    "\n",
    "Assume that $M_t(\\boldsymbol{\\eta})$ is quasi-concave for any $\\lambda_{ik}, x_{ik}, \\eta_k \\in [0,1]$ (this seems true but remains to be proven; note that log-concave functions are quasi-concave.). Then the minimum occurs on the boundary: $\\eta = 1$ or $\\eta = 0$. \n",
    "\n",
    "\n",
    "\n",
    "#### Example\n",
    "WLOG assume that the minimum occurs when $\\eta = 0$. Then as a function of $n$ we have:\n",
    "\\begin{align}\n",
    "M_t(\\boldsymbol{\\eta}) &= (1 - \\lambda + (\\lambda - \\lambda^2) x_1 + \\lambda x_2 + \\lambda^2 x_1 x_2)^n\n",
    "\\end{align}\n",
    "\n",
    "Take $\\lambda = 1$, then $M_t^* = (x_1 + x_1 x_2)^n$; this grows as a function of $n$ only if $x_1 + x_1 x_2 > 1$ while the global alternative is true as long as $x_1 + x_2 > 1$. Take, for example, $x_1 = 0.6$ and $x_2 = 0.5$ then the global alternative is true, but $0.6 + 0.5 * 0.6 = 0.9 < 1$, so the martingale shrinks as a function of $n$ and the $P$-value increases.  \n"
   ]
  },
  {
   "cell_type": "code",
   "execution_count": 171,
   "id": "8661e207",
   "metadata": {},
   "outputs": [
    {
     "data": {
      "image/png": "[encoded data removed]",
      "text/plain": [
       "<Figure size 432x288 with 1 Axes>"
      ]
     },
     "metadata": {
      "needs_background": "light"
     },
     "output_type": "display_data"
    }
   ],
   "source": [
    "#for plotting when x_1 = x_2 = 0.5 and \\lambda = 0.5\n",
    "eta_grid = eta_grid = np.arange(0,1,step=1e-2)\n",
    "#obj_val = lambda eta, n: (0.95 + 0.25*eta - 0.25*eta**2)**n\n",
    "\n",
    "#case where alternative is true\n",
    "obj_val = lambda eta, n: ((1 + 1 * (.6 - eta)) * (1 + 1 * (.5 - (1-eta))))**n\n",
    "plt.plot(eta_grid, obj_val(eta = eta_grid, n = 2), color = 'blue')\n",
    "plt.plot(eta_grid, obj_val(eta = eta_grid, n = 5), color = 'green')\n",
    "plt.plot(eta_grid, obj_val(eta = eta_grid, n = 10), color = 'orange')\n",
    "plt.plot(eta_grid, obj_val(eta = eta_grid, n = 20), color = 'red')\n",
    "plt.plot(eta_grid, obj_val(eta = eta_grid, n = 30), color = 'purple')\n",
    "plt.show()"
   ]
  },
  {
   "cell_type": "code",
   "execution_count": null,
   "id": "e4f80c6d",
   "metadata": {},
   "outputs": [],
   "source": []
  }
 ],
 "metadata": {
  "kernelspec": {
   "display_name": "Python 3 (ipykernel)",
   "language": "python",
   "name": "python3"
  },
  "language_info": {
   "codemirror_mode": {
    "name": "ipython",
    "version": 3
   },
   "file_extension": ".py",
   "mimetype": "text/x-python",
   "name": "python",
   "nbconvert_exporter": "python",
   "pygments_lexer": "ipython3",
   "version": "3.9.12"
  }
 },
 "nbformat": 4,
 "nbformat_minor": 5
}
