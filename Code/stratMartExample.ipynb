{
 "cells": [
  {
   "cell_type": "code",
   "execution_count": 1,
   "id": "c7c83862",
   "metadata": {},
   "outputs": [],
   "source": [
    "import math\n",
    "import pypoman\n",
    "import scipy as sp\n",
    "import pandas as pd\n",
    "import matplotlib.pyplot as plt\n",
    "import itertools\n",
    "import random\n",
    "from scipy.stats import bernoulli, uniform, chi2\n",
    "import numpy as np\n",
    "from scipy.stats.mstats import gmean\n",
    "from numpy.testing import assert_allclose\n",
    "from iteround import saferound\n",
    "from utils import Bets, Allocations, Weights, mart, lower_confidence_bound, global_lower_bound,\\\n",
    "    intersection_mart, plot_marts_eta, construct_eta_grid, union_intersection_mart, selector,\\\n",
    "    construct_eta_grid_plurcomp, simulate_comparison_audit\n",
    "np.random.seed(123456789)"
   ]
  },
  {
   "cell_type": "markdown",
   "id": "c035c00e",
   "metadata": {},
   "source": [
    "## Wright's method vs UI-NNSM for non-random populations\n",
    "\n",
    "In the cell below, we construct a range of $K=2$ strata populations. Each stratum is just a point-mass, so the samples are not in fact random. We alter the global alternative (`alt_grid`), the spread between the stratum values (`delta_grid`), the sample size from each stratum (`n_grid`), and the type of bet ($\\lambda_i$) used (`bets_dict`). We see whether a test based on wright's method, a UI-NNSM using product combining, or a UI-NNSM using Fisher combining rejects the global null of $\\eta_0 = 0.5$ at level $\\alpha = 0.05$. The tests reject after all $n_0 + n_1$ samples are consumed (we do not take running maxes over $t$ or deal with stratum allocation $T_k(t)$). There is no need to replicate the experiments because there is no randomness involved anywhere.  "
   ]
  },
  {
   "cell_type": "code",
   "execution_count": 5,
   "id": "e5ea6fe6",
   "metadata": {},
   "outputs": [],
   "source": [
    "alt_grid = [0.55, 0.6, 0.7]\n",
    "delta_grid = [0, 0.1, 0.5]\n",
    "alpha = 0.05\n",
    "eta_0 = 0.5\n",
    "bets_grid = [\"fixed\", \"agrapa\", \"smooth_predictable\"]\n",
    "bets_dict = {\"fixed\":Bets.fixed, \"agrapa\":Bets.agrapa, \"smooth_predictable\":Bets.smooth_predictable}\n",
    "K = 2\n",
    "N = [30, 30]\n",
    "results = []\n",
    "#TODO: add UI-NNSMs with different combining functions \n",
    "for alt, delta, bet in itertools.product(alt_grid, delta_grid, bets_grid):\n",
    "    means = [alt - 0.5*delta, alt + 0.5*delta]\n",
    "    calX = [[0, means[0]],[0, means[1]]]\n",
    "    samples = [np.ones(N[0]) * means[0], np.ones(N[1]) * means[1]]\n",
    "    eta_grid, calC, ub_calC = construct_eta_grid(eta_0, calX, N) \n",
    "    wlb = global_lower_bound(\n",
    "        x = samples, \n",
    "        N = N, \n",
    "        lam_func = bets_dict[bet], \n",
    "        allocation_func = Allocations.round_robin,\n",
    "        alpha = alpha, \n",
    "        breaks = 1000)\n",
    "    uinnsm_product = union_intersection_mart(\n",
    "        x = samples, \n",
    "        N = N,\n",
    "        etas = eta_grid, \n",
    "        lam_func = bets_dict[bet], \n",
    "        allocation_func = Allocations.round_robin,\n",
    "        combine = \"product\", \n",
    "        log = False)[0]\n",
    "    uinnsm_fisher = union_intersection_mart(\n",
    "        x = samples, \n",
    "        N = N,\n",
    "        etas = eta_grid, \n",
    "        lam_func = bets_dict[bet], \n",
    "        allocation_func = Allocations.round_robin,\n",
    "        combine = \"fisher\", \n",
    "        log = False)[0]\n",
    "    wlb_stop = np.where(any(wlb > eta_0), np.argmax(wlb > eta_0), np.sum(N))\n",
    "    uinnsm_product_stop = np.where(any(uinnsm_product > 1/alpha), np.argmax(uinnsm_product > 1/alpha), np.sum(N))\n",
    "    uinnsm_fisher_stop = np.where(any(uinnsm_fisher < alpha), np.argmax(uinnsm_fisher < alpha), np.sum(N))\n",
    "    data_dict = {\n",
    "        \"alt\":alt, \n",
    "        \"delta\":delta, \n",
    "        \"bet\":str(bet), \n",
    "        \"wright\" : wlb_stop, \n",
    "        \"uinnsm_product\" : uinnsm_product_stop,\n",
    "        \"uinnsm_fisher\" : uinnsm_fisher_stop}\n",
    "    results.append(data_dict)\n",
    "results = pd.DataFrame(results)"
   ]
  },
  {
   "cell_type": "code",
   "execution_count": 6,
   "id": "63781a1a",
   "metadata": {},
   "outputs": [
    {
     "name": "stdout",
     "output_type": "stream",
     "text": [
      "     alt  delta                 bet wright uinnsm_product uinnsm_fisher\n",
      "0   0.55    0.0               fixed     60             60            60\n",
      "1   0.55    0.0              agrapa     60             60            60\n",
      "2   0.55    0.0  smooth_predictable     60             58            60\n",
      "3   0.55    0.1               fixed     60             60            60\n",
      "4   0.55    0.1              agrapa     60             60            60\n",
      "5   0.55    0.1  smooth_predictable     60             60            60\n",
      "6   0.55    0.5               fixed     60             60            60\n",
      "7   0.55    0.5              agrapa     60             60            60\n",
      "8   0.55    0.5  smooth_predictable     60             60            60\n",
      "9   0.60    0.0               fixed     60             44            60\n",
      "10  0.60    0.0              agrapa     55             34            47\n",
      "11  0.60    0.0  smooth_predictable     60             32            50\n",
      "12  0.60    0.1               fixed     60             43            60\n",
      "13  0.60    0.1              agrapa     55             34            47\n",
      "14  0.60    0.1  smooth_predictable     60             32            49\n",
      "15  0.60    0.5               fixed     60             42            60\n",
      "16  0.60    0.5              agrapa     56             41            56\n",
      "17  0.60    0.5  smooth_predictable     60             32            49\n",
      "18  0.70    0.0               fixed     43             22            36\n",
      "19  0.70    0.0              agrapa     29             18            24\n",
      "20  0.70    0.0  smooth_predictable     32             16            24\n",
      "21  0.70    0.1               fixed     43             24            38\n",
      "22  0.70    0.1              agrapa     29             19            26\n",
      "23  0.70    0.1  smooth_predictable     32             17            26\n",
      "24  0.70    0.5               fixed     43             24            36\n",
      "25  0.70    0.5              agrapa     30             20            28\n",
      "26  0.70    0.5  smooth_predictable     32             18            26\n"
     ]
    }
   ],
   "source": [
    "#all results\n",
    "print(results.to_string())"
   ]
  },
  {
   "cell_type": "code",
   "execution_count": 16,
   "id": "069e0f23",
   "metadata": {},
   "outputs": [
    {
     "name": "stdout",
     "output_type": "stream",
     "text": [
      "CPU times: user 67 ms, sys: 6.67 ms, total: 73.7 ms\n",
      "Wall time: 70.3 ms\n"
     ]
    },
    {
     "data": {
      "text/plain": [
       "[(0.495, 0.5),\n",
       " (0.49550000000000005, 0.4750000000000001),\n",
       " (0.496, 0.44999999999999996),\n",
       " (0.49649999999999994, 0.42500000000000004),\n",
       " (0.497, 0.375),\n",
       " (0.497, 0.4),\n",
       " (0.49750000000000005, 0.3500000000000001),\n",
       " (0.49750000000000005, 0.375),\n",
       " (0.498, 0.32499999999999996),\n",
       " (0.498, 0.3500000000000001),\n",
       " (0.49849999999999994, 0.30000000000000004),\n",
       " (0.49849999999999994, 0.32499999999999996),\n",
       " (0.499, 0.275),\n",
       " (0.499, 0.30000000000000004),\n",
       " (0.49950000000000006, 0.25),\n",
       " (0.49950000000000006, 0.275),\n",
       " (0.5, 0.22499999999999998),\n",
       " (0.5, 0.25),\n",
       " (0.5005, 0.19999999999999996),\n",
       " (0.5005, 0.22499999999999998),\n",
       " (0.501, 0.19999999999999996),\n",
       " (0.5015000000000001, 0.17500000000000004),\n",
       " (0.502, 0.15000000000000002),\n",
       " (0.5025, 0.125),\n",
       " (0.503, 0.09999999999999998),\n",
       " (0.5035000000000001, 0.050000000000000044),\n",
       " (0.5035000000000001, 0.07499999999999996),\n",
       " (0.504, 0.025000000000000022),\n",
       " (0.504, 0.050000000000000044),\n",
       " (0.5045, 0.0),\n",
       " (0.5045, 0.025000000000000022),\n",
       " (0.505, 0.0)]"
      ]
     },
     "execution_count": 16,
     "metadata": {},
     "output_type": "execute_result"
    }
   ],
   "source": [
    "%%time\n",
    "etas = construct_eta_grid_plurcomp(N = [500, 10], A_c = [0.5, 1])\n",
    "etas[0]"
   ]
  },
  {
   "cell_type": "code",
   "execution_count": 17,
   "id": "818ec067",
   "metadata": {},
   "outputs": [
    {
     "name": "stderr",
     "output_type": "stream",
     "text": [
      "/Users/Jake/Dropbox/RLAs/UI-NNSMs/Code/utils.py:182: RuntimeWarning: invalid value encountered in log\n",
      "  mart = np.insert(np.cumsum(np.log(1 + lam_func(x, eta) * (x - eta_t))), 0, 0)\n",
      "/Users/Jake/Dropbox/RLAs/UI-NNSMs/Code/utils.py:182: RuntimeWarning: divide by zero encountered in log\n",
      "  mart = np.insert(np.cumsum(np.log(1 + lam_func(x, eta) * (x - eta_t))), 0, 0)\n"
     ]
    },
    {
     "name": "stdout",
     "output_type": "stream",
     "text": [
      "CPU times: user 2min 40s, sys: 504 ms, total: 2min 41s\n",
      "Wall time: 2min 41s\n"
     ]
    }
   ],
   "source": [
    "%%time \n",
    "\n",
    "N = [100, 100]\n",
    "A_c = np.array([1, 0.5])\n",
    "p_1 = np.array([0.05, 0.01])\n",
    "p_2 = np.array([0.00, 0.01])\n",
    "stopping_times = simulate_comparison_audit(\n",
    "    N, A_c, p_1, p_2, \n",
    "    lam_func = Bets.fixed, \n",
    "    allocation_func = Allocations.round_robin,\n",
    "    reps = 100,\n",
    "    WOR = True\n",
    ")"
   ]
  },
  {
   "cell_type": "code",
   "execution_count": 18,
   "id": "76b3d12f",
   "metadata": {},
   "outputs": [
    {
     "name": "stdout",
     "output_type": "stream",
     "text": [
      "CPU times: user 40.3 s, sys: 150 ms, total: 40.4 s\n",
      "Wall time: 40.4 s\n"
     ]
    }
   ],
   "source": [
    "%%time \n",
    "\n",
    "N = [500, 500]\n",
    "A_c = np.array([1, 0.5])\n",
    "p_1 = np.array([0.05, 0.01])\n",
    "p_2 = np.array([0.00, 0.01])\n",
    "stopping_times = simulate_comparison_audit(\n",
    "    N, A_c, p_1, p_2, \n",
    "    lam_func = Bets.fixed, \n",
    "    allocation_func = Allocations.round_robin,\n",
    "    reps = 1,\n",
    "    WOR = True\n",
    ")"
   ]
  },
  {
   "cell_type": "code",
   "execution_count": 7,
   "id": "b51f7d05",
   "metadata": {},
   "outputs": [
    {
     "data": {
      "text/plain": [
       "array([144., 148., 144., 146., 146., 144., 142., 144., 144., 143.])"
      ]
     },
     "execution_count": 7,
     "metadata": {},
     "output_type": "execute_result"
    }
   ],
   "source": [
    "stopping_times"
   ]
  },
  {
   "cell_type": "code",
   "execution_count": 4,
   "id": "42c218b2",
   "metadata": {},
   "outputs": [
    {
     "data": {
      "image/png": "[encoded data removed]",
      "text/plain": [
       "<Figure size 432x288 with 1 Axes>"
      ]
     },
     "metadata": {
      "needs_background": "light"
     },
     "output_type": "display_data"
    }
   ],
   "source": [
    "N = [50, 50]\n",
    "x = [0.5 * np.ones(50), 0.6 * np.ones(50)]\n",
    "plot_marts_eta(x = x,\n",
    "               N = N, \n",
    "               lam_func = Bets.smooth_predictable, \n",
    "               allocation_func = Allocations.proportional_round_robin,\n",
    "               combine = \"product\",\n",
    "               res = 2e-2)"
   ]
  },
  {
   "cell_type": "code",
   "execution_count": 8,
   "id": "4e36999a",
   "metadata": {},
   "outputs": [
    {
     "data": {
      "image/png": "[encoded data removed]",
      "text/plain": [
       "<Figure size 432x288 with 1 Axes>"
      ]
     },
     "metadata": {
      "needs_background": "light"
     },
     "output_type": "display_data"
    }
   ],
   "source": [
    "#fisher combining isn't even unimodal... i.e. it seems like it will be difficult to scale\n",
    "plot_marts_eta(\n",
    "    x = samples, \n",
    "    N = N, \n",
    "    lam_func = Bets.fixed, \n",
    "    allocation_func = Allocations.round_robin,\n",
    "    combine = \"fisher\", \n",
    "    theta_func = Weights.fixed, \n",
    "    log = False)"
   ]
  }
 ],
 "metadata": {
  "kernelspec": {
   "display_name": "Python 3 (ipykernel)",
   "language": "python",
   "name": "python3"
  },
  "language_info": {
   "codemirror_mode": {
    "name": "ipython",
    "version": 3
   },
   "file_extension": ".py",
   "mimetype": "text/x-python",
   "name": "python",
   "nbconvert_exporter": "python",
   "pygments_lexer": "ipython3",
   "version": "3.9.12"
  }
 },
 "nbformat": 4,
 "nbformat_minor": 5
}
