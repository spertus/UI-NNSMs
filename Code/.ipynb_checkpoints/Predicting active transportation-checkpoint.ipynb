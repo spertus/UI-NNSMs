{
 "cells": [
  {
   "cell_type": "code",
   "execution_count": null,
   "id": "720678d3",
   "metadata": {},
   "outputs": [],
   "source": [
    "# libraries \n",
    "import pandas as pd\n",
    "import math\n",
    "import numpy as np\n",
    "from datetime import datetime\n",
    "import geopandas as gpd\n",
    "import seaborn as sns\n",
    "from matplotlib import pyplot as plt\n",
    "from scipy.stats import f_oneway\n",
    "from statsmodels.multivariate.manova import MANOVA\n",
    "import sklearn.datasets\n",
    "import numpy as np\n",
    "from statsmodels.multivariate.manova import MANOVA\n",
    "import random\n",
    "from scipy.stats import f\n",
    "from scipy.stats import multivariate_normal"
   ]
  }
 ],
 "metadata": {
  "kernelspec": {
   "display_name": "Python 3 (ipykernel)",
   "language": "python",
   "name": "python3"
  }
 },
 "nbformat": 4,
 "nbformat_minor": 5
}
