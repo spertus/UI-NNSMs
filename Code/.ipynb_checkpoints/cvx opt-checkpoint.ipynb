{
 "cells": [
  {
   "cell_type": "code",
   "execution_count": 1,
   "id": "a29bb735",
   "metadata": {},
   "outputs": [],
   "source": [
    "import cvxopt\n",
    "import numpy as np"
   ]
  },
  {
   "cell_type": "code",
   "execution_count": 15,
   "id": "1ef9c41f",
   "metadata": {},
   "outputs": [],
   "source": [
    "SAMPLES = [np.random.normal(0.8, 0.01, 100), np.random.normal(0.3, 0.01, 100)] \n",
    "def log_mart(eta, k):\n",
    "    '''\n",
    "    return the log value of within-stratum martingale evaluated at eta_k\n",
    "    bets are exponential in negative eta, offset by lagged sample mean\n",
    "    '''\n",
    "    #lag_mean = np.mean(past_samples) if past_samples.size > 0 else 1/2\n",
    "    #for the bet on the first sample, just guesses a mean of 1/2; after that, uses the sample mean\n",
    "    samples = SAMPLES[k]\n",
    "    lag_mean = np.insert(np.cumsum(samples),0,1/2)[0:-1] / np.arange(1,len(samples)+1)\n",
    "    if samples.size == 0:\n",
    "        return 0\n",
    "    else:\n",
    "        return np.sum(np.log(1 + np.exp(lag_mean - eta) * (samples - eta)))\n",
    "\n",
    "def global_log_mart(eta):\n",
    "    '''\n",
    "    return the log value of the product-combined I-NNSM evaluated at eta\n",
    "    '''\n",
    "    samples = SAMPLES\n",
    "    eta = np.array(eta)\n",
    "    return cvxopt.matrix(\n",
    "        np.sum([log_mart(eta[k], k) for k in np.arange(len(eta))])\n",
    "    )\n",
    "\n",
    "def distance(eta): # use square of 2-norm so gradient is easier\n",
    "    \n",
    "    eta = np.array(eta)\n",
    "    return cvxopt.matrix(np.linalg.norm(SAMPLES - eta)**2)\n",
    "\n",
    "def grad_dist(eta):\n",
    "    eta = np.array(eta)\n",
    "    grad_vec = []\n",
    "    for i in range(len(eta)):\n",
    "        grad_vec.append(2*(SAMPLES[i] - eta[i]))\n",
    "#     print(eta, grad_vec)\n",
    "    return cvxopt.matrix(np.array(grad_vec))\n",
    "\n",
    "def hess_dist(eta):\n",
    "    eta = np.array(eta)\n",
    "    return cvxopt.matrix(np.zeros((len(eta), len(eta))))\n",
    "\n",
    "def partial(eta, k):\n",
    "    '''\n",
    "    return the partial derivative (WRT eta) of the log I-NNSM evaluated at eta_k\n",
    "    '''\n",
    "    samples = SAMPLES[k]\n",
    "    eta = np.array(eta)\n",
    "    lag_mean = np.insert(np.cumsum(samples),0,1/2)[0:-1] / np.arange(1,len(samples)+1)\n",
    "    if samples.size == 0:\n",
    "        return 0\n",
    "    else:\n",
    "        return -np.sum(np.exp(lag_mean - eta) * (samples - eta + 1) / (1 + np.exp(lag_mean - eta) * (samples - eta)))\n",
    "\n",
    "def grad(eta):\n",
    "    '''\n",
    "    return the gradient (WRT eta) of the log I-NNSM evaluated at eta\n",
    "    '''\n",
    "    eta = np.array(eta)\n",
    "    return cvxopt.matrix(\n",
    "        np.array([partial(eta[k], k) for k in np.arange(len(eta))])\n",
    "    )\n",
    "\n",
    "def second_partial(eta, k):\n",
    "    '''\n",
    "    computes the second partial derivative (WRT eta^2) of the log I-NNSM evaluated at eta_k\n",
    "    Mixed partials are zero.\n",
    "    '''\n",
    "    samples = SAMPLES[k]\n",
    "    eta = np.array(eta)\n",
    "    #lag mean\n",
    "    lm = np.insert(np.cumsum(samples),0,1/2)[0:-1] / np.arange(1,len(samples)+1)\n",
    "    x = samples #rename to shorten\n",
    "    if x.size == 0:\n",
    "        return 0.5\n",
    "    else:\n",
    "        g = 1 + np.exp(lm-eta) * (x-eta)\n",
    "        g_prime = np.exp(lm-eta) * (-1-(x-eta))\n",
    "        f = np.exp(lm-eta) * (1+x-eta)\n",
    "        f_prime = -np.exp(lm-eta) * (2+x-eta)\n",
    "        numerator = g * f_prime - g_prime * f\n",
    "        denominator = g**2\n",
    "        return -np.sum(numerator/denominator)\n",
    "\n",
    "def hessian(eta):\n",
    "    '''\n",
    "    return the Hessian matrix of the log I-TSM evaluated at eta\n",
    "    the off-diagonals (mixed-partials) are all zero\n",
    "    '''\n",
    "    samples = SAMPLES\n",
    "    eta = np.array(eta)\n",
    "    n = len(eta)\n",
    "    hess = np.zeros((n, n))\n",
    "    for k in range(len(eta)):\n",
    "        hess[k][k] = second_partial(eta[k], k)\n",
    "    return cvxopt.matrix(hess)"
   ]
  },
  {
   "cell_type": "code",
   "execution_count": 16,
   "id": "e06a3d12",
   "metadata": {},
   "outputs": [],
   "source": [
    "def F(x=None, z=None):\n",
    "    x0 = cvxopt.matrix([[1.0, 0.]])\n",
    "    \n",
    "    if x is None and z is None:\n",
    "        return 0, x0\n",
    "    if z is None:\n",
    "        return global_log_mart(x), grad(x).T\n",
    "    return global_log_mart(x), grad(x).T, z*hessian(x)\n",
    "# means greater than half\n",
    "# means must be positive\n",
    "\n",
    "def F_dist(x=None, z=None):\n",
    "    x0 = cvxopt.matrix([[1.0, 0.]])\n",
    "    \n",
    "    if x is None and z is None:\n",
    "        return 0, x0\n",
    "    if z is None:\n",
    "        return distance(x), grad_dist(x).T\n",
    "#     print(z*hess_dist(x))\n",
    "    return distance(x), grad_dist(x).T, z*hess_dist(x)"
   ]
  },
  {
   "cell_type": "code",
   "execution_count": 17,
   "id": "8a3b19ab",
   "metadata": {},
   "outputs": [
    {
     "name": "stdout",
     "output_type": "stream",
     "text": [
      "     pcost       dcost       gap    pres   dres\n",
      " 0:  0.0000e+00  2.6466e+00  7e+00  1e+00  1e+00\n",
      " 1: -1.0429e+02 -7.1265e+01  2e+00  6e+00  4e-01\n",
      " 2: -1.0337e+02 -6.9975e+01  2e+00  5e+00  4e-01\n",
      " 3: -6.4005e+01 -1.5636e+01  6e+00  4e+00  2e-01\n",
      " 4: -3.4896e+01 -4.1353e+00  9e-01  2e+00  1e-01\n",
      " 5: -8.7305e+00 -2.1887e-01  2e-01  6e-01  2e-02\n",
      " 6: -2.8071e-01  5.5053e-02  2e-02  3e-02  3e-04\n",
      " 7:  6.5678e-02  6.9318e-02  3e-04  4e-04  3e-06\n",
      " 8:  6.9531e-02  6.9568e-02  3e-06  4e-06  3e-08\n",
      " 9:  6.9570e-02  6.9570e-02  3e-08  4e-08  3e-10\n",
      "Optimal solution found.\n",
      "[ 7.85e-01]\n",
      "[ 2.15e-01]\n",
      "\n",
      "3.173580176882528e-11\n"
     ]
    }
   ],
   "source": [
    "w = np.array([0.5, 0.5])\n",
    "K = 2\n",
    "eta_0 = 0.5\n",
    "G = np.concatenate((\n",
    "    np.expand_dims(w, axis = 0),\n",
    "    np.expand_dims(-w, axis = 0),\n",
    "    -np.identity(K),\n",
    "    np.identity(K)))\n",
    "h = np.concatenate((\n",
    "                    eta_0 * np.ones(1),\n",
    "                    -eta_0 * np.ones(1),\n",
    "                    np.zeros(K),\n",
    "                    np.ones(K)))\n",
    "\n",
    "# # A = np.expand_dims(w, axis = 0)\n",
    "# # b = np.array(eta_0 * np.ones(1))\n",
    "\n",
    "# # soln = cvxopt.solvers.cp(F, cvxopt.matrix(A), cvxopt.matrix(b))\n",
    "soln = cvxopt.solvers.cp(F, cvxopt.matrix(G), cvxopt.matrix(h))\n",
    "print(soln['x'])\n",
    "print(soln['dual slack'])\n",
    "# cvxopt.matrix(G), cvxopt.matrix(h))"
   ]
  },
  {
   "cell_type": "code",
   "execution_count": 6,
   "id": "d67f9091",
   "metadata": {},
   "outputs": [
    {
     "ename": "NameError",
     "evalue": "name 'G' is not defined",
     "output_type": "error",
     "traceback": [
      "\u001b[0;31m---------------------------------------------------------------------------\u001b[0m",
      "\u001b[0;31mNameError\u001b[0m                                 Traceback (most recent call last)",
      "Input \u001b[0;32mIn [6]\u001b[0m, in \u001b[0;36m<cell line: 8>\u001b[0;34m()\u001b[0m\n\u001b[1;32m      3\u001b[0m eta_0 \u001b[38;5;241m=\u001b[39m \u001b[38;5;241m0.5\u001b[39m\n\u001b[1;32m      4\u001b[0m \u001b[38;5;66;03m# A = np.expand_dims(w, axis = 0)\u001b[39;00m\n\u001b[1;32m      5\u001b[0m \u001b[38;5;66;03m# b = np.array(eta_0 * np.ones(1))\u001b[39;00m\n\u001b[1;32m      6\u001b[0m \n\u001b[1;32m      7\u001b[0m \u001b[38;5;66;03m# soln = cvxopt.solvers.cp(F, cvxopt.matrix(A), cvxopt.matrix(b))\u001b[39;00m\n\u001b[0;32m----> 8\u001b[0m soln \u001b[38;5;241m=\u001b[39m cvxopt\u001b[38;5;241m.\u001b[39msolvers\u001b[38;5;241m.\u001b[39mcp(F_dist, cvxopt\u001b[38;5;241m.\u001b[39mmatrix(\u001b[43mG\u001b[49m), cvxopt\u001b[38;5;241m.\u001b[39mmatrix(h))\n\u001b[1;32m      9\u001b[0m \u001b[38;5;28mprint\u001b[39m(soln[\u001b[38;5;124m'\u001b[39m\u001b[38;5;124mx\u001b[39m\u001b[38;5;124m'\u001b[39m])\n\u001b[1;32m     10\u001b[0m \u001b[38;5;28mprint\u001b[39m(soln[\u001b[38;5;124m'\u001b[39m\u001b[38;5;124mprimal objective\u001b[39m\u001b[38;5;124m'\u001b[39m])\n",
      "\u001b[0;31mNameError\u001b[0m: name 'G' is not defined"
     ]
    }
   ],
   "source": [
    "w = np.array([0.5, 0.5])\n",
    "K = 2\n",
    "eta_0 = 0.5\n",
    "# A = np.expand_dims(w, axis = 0)\n",
    "# b = np.array(eta_0 * np.ones(1))\n",
    "\n",
    "# soln = cvxopt.solvers.cp(F, cvxopt.matrix(A), cvxopt.matrix(b))\n",
    "soln = cvxopt.solvers.cp(F_dist, cvxopt.matrix(G), cvxopt.matrix(h))\n",
    "print(soln['x'])\n",
    "print(soln['primal objective'])\n",
    "# cvxopt.matrix(G), cvxopt.matrix(h))"
   ]
  },
  {
   "cell_type": "code",
   "execution_count": 284,
   "id": "15f9d39d",
   "metadata": {},
   "outputs": [
    {
     "data": {
      "text/plain": [
       "1.7124999999999124"
      ]
     },
     "execution_count": 284,
     "metadata": {},
     "output_type": "execute_result"
    }
   ],
   "source": [
    "np.linalg.norm(SAMPLES - np.array([4.62e-14, 1]))**2"
   ]
  },
  {
   "cell_type": "code",
   "execution_count": 272,
   "id": "1e0af16c",
   "metadata": {},
   "outputs": [
    {
     "data": {
      "text/plain": [
       "0.04999999999999993"
      ]
     },
     "execution_count": 272,
     "metadata": {},
     "output_type": "execute_result"
    }
   ],
   "source": [
    "np.linalg.norm(SAMPLES - np.array([0.9, 0.1]))"
   ]
  },
  {
   "cell_type": "code",
   "execution_count": 273,
   "id": "4880a764",
   "metadata": {},
   "outputs": [
    {
     "data": {
      "text/plain": [
       "0.11180339887498951"
      ]
     },
     "execution_count": 273,
     "metadata": {},
     "output_type": "execute_result"
    }
   ],
   "source": [
    "np.linalg.norm(SAMPLES - np.array([1, 0.]))"
   ]
  },
  {
   "cell_type": "code",
   "execution_count": 269,
   "id": "480d0f32",
   "metadata": {},
   "outputs": [
    {
     "data": {
      "text/plain": [
       "0.7759379671981613"
      ]
     },
     "execution_count": 269,
     "metadata": {},
     "output_type": "execute_result"
    }
   ],
   "source": [
    "(distance(np.array([0.5, 0.5]))[0])**0.5"
   ]
  },
  {
   "cell_type": "code",
   "execution_count": 221,
   "id": "6de6a1da",
   "metadata": {
    "scrolled": true
   },
   "outputs": [
    {
     "data": {
      "text/plain": [
       "array([[ 0.5,  0.5],\n",
       "       [-1. , -0. ],\n",
       "       [-0. , -1. ],\n",
       "       [ 1. ,  0. ],\n",
       "       [ 0. ,  1. ]])"
      ]
     },
     "execution_count": 221,
     "metadata": {},
     "output_type": "execute_result"
    }
   ],
   "source": [
    "G"
   ]
  },
  {
   "cell_type": "code",
   "execution_count": 222,
   "id": "dad5c385",
   "metadata": {},
   "outputs": [
    {
     "data": {
      "text/plain": [
       "array([0.5, 0. , 0. , 1. , 1. ])"
      ]
     },
     "execution_count": 222,
     "metadata": {},
     "output_type": "execute_result"
    }
   ],
   "source": [
    "h"
   ]
  },
  {
   "cell_type": "code",
   "execution_count": null,
   "id": "a0c19abb",
   "metadata": {},
   "outputs": [],
   "source": [
    "# 0.5x1 + 0.5x2 < 0.5\n",
    "# - 0.5 x1 - 0.5 x2 < 0.5"
   ]
  },
  {
   "cell_type": "code",
   "execution_count": 194,
   "id": "7a0b51b0",
   "metadata": {},
   "outputs": [
    {
     "data": {
      "text/plain": [
       "0.30000000000000004"
      ]
     },
     "execution_count": 194,
     "metadata": {},
     "output_type": "execute_result"
    }
   ],
   "source": [
    "0.5*0.4 + 0.5*0.2"
   ]
  },
  {
   "cell_type": "code",
   "execution_count": 195,
   "id": "14672801",
   "metadata": {},
   "outputs": [
    {
     "data": {
      "text/plain": [
       "-0.30000000000000004"
      ]
     },
     "execution_count": 195,
     "metadata": {},
     "output_type": "execute_result"
    }
   ],
   "source": [
    "-0.5*0.4 - 0.5*0.2"
   ]
  },
  {
   "cell_type": "code",
   "execution_count": 196,
   "id": "a4721190",
   "metadata": {},
   "outputs": [],
   "source": [
    "# ax < b\n",
    "# -ax < -b\n",
    "# -x < 0 - > x > 0\n",
    "# x < 1"
   ]
  },
  {
   "cell_type": "code",
   "execution_count": 1,
   "id": "3dd742cd",
   "metadata": {},
   "outputs": [],
   "source": [
    "import cvxpy"
   ]
  },
  {
   "cell_type": "code",
   "execution_count": null,
   "id": "e4505645",
   "metadata": {},
   "outputs": [],
   "source": []
  }
 ],
 "metadata": {
  "kernelspec": {
   "display_name": "Python 3 (ipykernel)",
   "language": "python",
   "name": "python3"
  },
  "language_info": {
   "codemirror_mode": {
    "name": "ipython",
    "version": 3
   },
   "file_extension": ".py",
   "mimetype": "text/x-python",
   "name": "python",
   "nbconvert_exporter": "python",
   "pygments_lexer": "ipython3",
   "version": "3.9.12"
  }
 },
 "nbformat": 4,
 "nbformat_minor": 5
}
